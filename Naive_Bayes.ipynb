{
  "nbformat": 4,
  "nbformat_minor": 0,
  "metadata": {
    "colab": {
      "provenance": [],
      "authorship_tag": "ABX9TyOmX3XpRTprNO0yVIEuNTXB",
      "include_colab_link": true
    },
    "kernelspec": {
      "name": "python3",
      "display_name": "Python 3"
    },
    "language_info": {
      "name": "python"
    }
  },
  "cells": [
    {
      "cell_type": "markdown",
      "metadata": {
        "id": "view-in-github",
        "colab_type": "text"
      },
      "source": [
        "<a href=\"https://colab.research.google.com/github/SriKrishnaMishra/Machine-Learning/blob/main/Naive_Bayes.ipynb\" target=\"_parent\"><img src=\"https://colab.research.google.com/assets/colab-badge.svg\" alt=\"Open In Colab\"/></a>"
      ]
    },
    {
      "cell_type": "markdown",
      "source": [
        "dataset - https://www.kaggle.com/datasets/yasserh/titanic-dataset\n",
        "\n",
        "\n",
        "\n",
        "###*** i working in this project into 4 things are types : also ***\n",
        "\n",
        "###Part 1: 4 Key Things in Titanic (with NB)\n",
        "\n",
        "> Male vs Female survival rate predictions\n",
        "\n",
        "> 1NB will clearly show: females → higher probability of survival.\n",
        "\n",
        "> Example: ~74% of women survived vs ~19% of men (real data).\n",
        "\n",
        "> So in predictions, NB will strongly rely on Sex.\n",
        "\n",
        "###Class-based survival odds\n",
        "\n",
        "> 1st class passengers had much better odds than 3rd class.\n",
        "\n",
        "> NB will capture this from the categorical Pclass feature.\n",
        "\n",
        "###Limitations of Naïve Bayes\n",
        "\n",
        ">Assumes independence → but Titanic features are correlated (e.g., Pclass and Fare go together).\n",
        "\n",
        "> Continuous features (Age, Fare) may not really follow a Gaussian distribution.\n",
        "\n",
        "> Baseline comparison with Logistic Regression\n",
        "\n",
        "> Logistic Regression usually performs a bit better (~80–83% accuracy).\n",
        "\n",
        "> But Naïve Bayes is faster and simpler.\n",
        "\n",
        "\n",
        "\n",
        "\n",
        "🔹 Part 2: Benefits of Different Naïve Bayes Types in Titanic\n",
        "\n",
        "\n",
        "\n",
        "###Gaussian Naïve Bayes (GNB)\n",
        "\n",
        "> Best for continuous data like Age and Fare.\n",
        "\n",
        "> Assumes features follow a normal distribution.\n",
        "\n",
        "> Titanic use-case: Predicting survival based on age/fare fits better here.\n",
        "\n",
        "###Multinomial Naïve Bayes (MNB)\n",
        "\n",
        "Works best for count-based features (word counts, number of occurrences).\n",
        "\n",
        "Titanic use-case: Not very natural here, but you could discretize continuous features (e.g., bucket Age into groups like child, adult, senior) and apply MNB.\n",
        "\n",
        "###Bernoulli Naïve Bayes (BNB)\n",
        "\n",
        "> Best for binary features (yes/no, 0/1).\n",
        "\n",
        "> Titanic use-case: Features like Sex (male/female), Survived (0/1), IsAlone (yes/no if family aboard) can be modeled well.\n",
        "\n",
        "> It’s useful if you convert the dataset into mostly 0/1 features."
      ],
      "metadata": {
        "id": "yiiRpd78UcTv"
      }
    },
    {
      "cell_type": "markdown",
      "source": [
        "### Import Libraries & Load Data"
      ],
      "metadata": {
        "id": "zqb6pbw7wCiZ"
      }
    },
    {
      "cell_type": "code",
      "execution_count": 2,
      "metadata": {
        "id": "X9cEzDNZULtw"
      },
      "outputs": [],
      "source": [
        "import pandas as pd\n",
        "import numpy as np"
      ]
    },
    {
      "cell_type": "markdown",
      "source": [
        "### Load & Preview Data"
      ],
      "metadata": {
        "id": "MJEMZOBvw8eF"
      }
    },
    {
      "cell_type": "code",
      "source": [
        "df = pd.read_csv(\"/content/Naive Bayes dataset.zip\")\n",
        "\n",
        "# Quick look\n",
        "print(df.head())"
      ],
      "metadata": {
        "colab": {
          "base_uri": "https://localhost:8080/"
        },
        "id": "AVyGTemhwmmh",
        "outputId": "41a2f295-5587-4f22-cc5c-60fe42afae04"
      },
      "execution_count": 4,
      "outputs": [
        {
          "output_type": "stream",
          "name": "stdout",
          "text": [
            "   PassengerId  Survived  Pclass  \\\n",
            "0            1         0       3   \n",
            "1            2         1       1   \n",
            "2            3         1       3   \n",
            "3            4         1       1   \n",
            "4            5         0       3   \n",
            "\n",
            "                                                Name     Sex   Age  SibSp  \\\n",
            "0                            Braund, Mr. Owen Harris    male  22.0      1   \n",
            "1  Cumings, Mrs. John Bradley (Florence Briggs Th...  female  38.0      1   \n",
            "2                             Heikkinen, Miss. Laina  female  26.0      0   \n",
            "3       Futrelle, Mrs. Jacques Heath (Lily May Peel)  female  35.0      1   \n",
            "4                           Allen, Mr. William Henry    male  35.0      0   \n",
            "\n",
            "   Parch            Ticket     Fare Cabin Embarked  \n",
            "0      0         A/5 21171   7.2500   NaN        S  \n",
            "1      0          PC 17599  71.2833   C85        C  \n",
            "2      0  STON/O2. 3101282   7.9250   NaN        S  \n",
            "3      0            113803  53.1000  C123        S  \n",
            "4      0            373450   8.0500   NaN        S  \n"
          ]
        }
      ]
    },
    {
      "cell_type": "code",
      "source": [
        "print(df.info())\n"
      ],
      "metadata": {
        "colab": {
          "base_uri": "https://localhost:8080/"
        },
        "id": "CaxM5FZAwwAg",
        "outputId": "baa6a569-7919-4663-9442-c8c238b4cc7b"
      },
      "execution_count": 5,
      "outputs": [
        {
          "output_type": "stream",
          "name": "stdout",
          "text": [
            "<class 'pandas.core.frame.DataFrame'>\n",
            "RangeIndex: 891 entries, 0 to 890\n",
            "Data columns (total 12 columns):\n",
            " #   Column       Non-Null Count  Dtype  \n",
            "---  ------       --------------  -----  \n",
            " 0   PassengerId  891 non-null    int64  \n",
            " 1   Survived     891 non-null    int64  \n",
            " 2   Pclass       891 non-null    int64  \n",
            " 3   Name         891 non-null    object \n",
            " 4   Sex          891 non-null    object \n",
            " 5   Age          714 non-null    float64\n",
            " 6   SibSp        891 non-null    int64  \n",
            " 7   Parch        891 non-null    int64  \n",
            " 8   Ticket       891 non-null    object \n",
            " 9   Fare         891 non-null    float64\n",
            " 10  Cabin        204 non-null    object \n",
            " 11  Embarked     889 non-null    object \n",
            "dtypes: float64(2), int64(5), object(5)\n",
            "memory usage: 83.7+ KB\n",
            "None\n"
          ]
        }
      ]
    },
    {
      "cell_type": "code",
      "source": [
        "print(df.isnull().sum())"
      ],
      "metadata": {
        "colab": {
          "base_uri": "https://localhost:8080/"
        },
        "id": "F7ZKnA2Iwz7z",
        "outputId": "8202e9f1-ea8e-4c99-e084-c089b98513fc"
      },
      "execution_count": 6,
      "outputs": [
        {
          "output_type": "stream",
          "name": "stdout",
          "text": [
            "PassengerId      0\n",
            "Survived         0\n",
            "Pclass           0\n",
            "Name             0\n",
            "Sex              0\n",
            "Age            177\n",
            "SibSp            0\n",
            "Parch            0\n",
            "Ticket           0\n",
            "Fare             0\n",
            "Cabin          687\n",
            "Embarked         2\n",
            "dtype: int64\n"
          ]
        }
      ]
    },
    {
      "cell_type": "markdown",
      "source": [
        "### Clean & Preprocess"
      ],
      "metadata": {
        "id": "2w9iM8B_w_qG"
      }
    },
    {
      "cell_type": "code",
      "source": [
        "# Drop columns not useful for prediction\n",
        "columns_to_drop = [\"PassengerId\",\"Name\",\"Ticket\",\"Cabin\"]\n",
        "df = df.drop(columns=[col for col in columns_to_drop if col in df.columns], axis=1)\n",
        "\n",
        "# Fill missing values\n",
        "df[\"Age\"] = df[\"Age\"].fillna(df[\"Age\"].median())\n",
        "df[\"Embarked\"] = df[\"Embarked\"].fillna(df[\"Embarked\"].mode()[0])\n",
        "\n",
        "# Encode categorical features\n",
        "from sklearn.preprocessing import LabelEncoder\n",
        "label = LabelEncoder()\n",
        "df[\"Sex\"] = label.fit_transform(df[\"Sex\"])\n",
        "df[\"Embarked\"] = label.fit_transform(df[\"Embarked\"])\n",
        "\n",
        "print(df.head())"
      ],
      "metadata": {
        "colab": {
          "base_uri": "https://localhost:8080/"
        },
        "id": "qLtPq33bw-z8",
        "outputId": "d622b84a-0fcd-4908-a669-194ec4328191"
      },
      "execution_count": 9,
      "outputs": [
        {
          "output_type": "stream",
          "name": "stdout",
          "text": [
            "   Survived  Pclass  Sex   Age  SibSp  Parch     Fare  Embarked\n",
            "0         0       3    1  22.0      1      0   7.2500         2\n",
            "1         1       1    0  38.0      1      0  71.2833         0\n",
            "2         1       3    0  26.0      0      0   7.9250         2\n",
            "3         1       1    0  35.0      1      0  53.1000         2\n",
            "4         0       3    1  35.0      0      0   8.0500         2\n"
          ]
        }
      ]
    },
    {
      "cell_type": "markdown",
      "source": [
        "### Data Visualization"
      ],
      "metadata": {
        "id": "ywwEsP2zxkq5"
      }
    },
    {
      "cell_type": "code",
      "source": [
        "import seaborn as sns\n",
        "import matplotlib.pyplot as plt\n",
        "\n",
        "# Survival rate by Sex\n",
        "#male = 1 or female = 0\n",
        "sns.barplot(x=\"Sex\", y=\"Survived\", data=df)\n",
        "plt.title(\"Survival Rate by Gender\")\n",
        "plt.show()\n",
        "\n",
        "# Survival rate by Pclass\n",
        "sns.barplot(x=\"Pclass\", y=\"Survived\", data=df)\n",
        "plt.title(\"Survival Rate by Passenger Class\")\n",
        "plt.show()"
      ],
      "metadata": {
        "colab": {
          "base_uri": "https://localhost:8080/",
          "height": 927
        },
        "id": "hl_hJpkxxmBe",
        "outputId": "337aea94-a3b3-425c-b3de-2e8796ed9af0"
      },
      "execution_count": 11,
      "outputs": [
        {
          "output_type": "display_data",
          "data": {
            "text/plain": [
              "<Figure size 640x480 with 1 Axes>"
            ],
            "image/png": "[encoded data removed]"
          },
          "metadata": {}
        },
        {
          "output_type": "display_data",
          "data": {
            "text/plain": [
              "<Figure size 640x480 with 1 Axes>"
            ],
            "image/png": "[encoded data removed]"
          },
          "metadata": {}
        }
      ]
    },
    {
      "cell_type": "markdown",
      "source": [
        "### Train/Test Split"
      ],
      "metadata": {
        "id": "C7uGjm6qycsM"
      }
    },
    {
      "cell_type": "code",
      "source": [
        "from sklearn.model_selection import train_test_split, cross_val_score\n",
        "\n",
        "X = df.drop(\"Survived\", axis=1)\n",
        "y = df[\"Survived\"]\n",
        "\n",
        "X_train, X_test, y_train, y_test = train_test_split(X, y, test_size=0.2, random_state=42)\n"
      ],
      "metadata": {
        "id": "7fLtjYskye1G"
      },
      "execution_count": 14,
      "outputs": []
    },
    {
      "cell_type": "markdown",
      "source": [
        "### Gaussian Naïve Bayes"
      ],
      "metadata": {
        "id": "z98L-20uytG5"
      }
    },
    {
      "cell_type": "code",
      "source": [
        "from sklearn.naive_bayes import GaussianNB\n",
        "from sklearn.metrics import classification_report, confusion_matrix, accuracy_score\n",
        "\n",
        "nb = GaussianNB()\n",
        "nb.fit(X_train, y_train)\n",
        "\n",
        "y_pred_nb = nb.predict(X_test)\n",
        "\n",
        "print(\"Naïve Bayes Accuracy:\", accuracy_score(y_test, y_pred_nb))\n",
        "print(classification_report(y_test, y_pred_nb))\n",
        "\n",
        "# Cross-validation\n",
        "cv_scores_nb = cross_val_score(nb, X, y, cv=5)\n",
        "print(\"Naïve Bayes CV Accuracy:\", cv_scores_nb.mean())\n"
      ],
      "metadata": {
        "colab": {
          "base_uri": "https://localhost:8080/"
        },
        "id": "WLkpbnGMyupx",
        "outputId": "525263c2-262f-4f14-946f-f21c5632cd86"
      },
      "execution_count": 16,
      "outputs": [
        {
          "output_type": "stream",
          "name": "stdout",
          "text": [
            "Naïve Bayes Accuracy: 0.776536312849162\n",
            "              precision    recall  f1-score   support\n",
            "\n",
            "           0       0.83      0.78      0.80       105\n",
            "           1       0.71      0.77      0.74        74\n",
            "\n",
            "    accuracy                           0.78       179\n",
            "   macro avg       0.77      0.78      0.77       179\n",
            "weighted avg       0.78      0.78      0.78       179\n",
            "\n",
            "Naïve Bayes CV Accuracy: 0.7901512773837174\n"
          ]
        }
      ]
    },
    {
      "cell_type": "markdown",
      "source": [
        "### Logistic Regression (Baseline)"
      ],
      "metadata": {
        "id": "bTl1hYOozjQH"
      }
    },
    {
      "cell_type": "code",
      "source": [
        "from sklearn.linear_model import LogisticRegression\n",
        "\n",
        "lr = LogisticRegression(max_iter=500)\n",
        "lr.fit(X_train, y_train)\n",
        "\n",
        "y_pred_lr = lr.predict(X_test)\n",
        "\n",
        "print(\"Logistic Regression Accuracy:\", accuracy_score(y_test, y_pred_lr))\n",
        "print(classification_report(y_test, y_pred_lr))\n",
        "\n",
        "# Cross-validation\n",
        "cv_scores_lr = cross_val_score(lr, X, y, cv=5)\n",
        "print(\"Logistic Regression CV Accuracy:\", cv_scores_lr.mean())\n"
      ],
      "metadata": {
        "colab": {
          "base_uri": "https://localhost:8080/"
        },
        "id": "-2IPOi_ozlze",
        "outputId": "d5ee6129-3d78-409a-9635-152fdeeaee59"
      },
      "execution_count": 18,
      "outputs": [
        {
          "output_type": "stream",
          "name": "stdout",
          "text": [
            "Logistic Regression Accuracy: 0.8100558659217877\n",
            "              precision    recall  f1-score   support\n",
            "\n",
            "           0       0.83      0.86      0.84       105\n",
            "           1       0.79      0.74      0.76        74\n",
            "\n",
            "    accuracy                           0.81       179\n",
            "   macro avg       0.81      0.80      0.80       179\n",
            "weighted avg       0.81      0.81      0.81       179\n",
            "\n",
            "Logistic Regression CV Accuracy: 0.7890025735986442\n"
          ]
        }
      ]
    },
    {
      "cell_type": "markdown",
      "source": [
        "### Confusion Matrix Visualization"
      ],
      "metadata": {
        "id": "sZOxjfkA0sC8"
      }
    },
    {
      "cell_type": "code",
      "source": [
        "fig, axes = plt.subplots(1, 2, figsize=(12,5))\n",
        "\n",
        "sns.heatmap(confusion_matrix(y_test, y_pred_nb), annot=True, fmt='d', cmap=\"Blues\", ax=axes[0])\n",
        "axes[0].set_title(\"Naïve Bayes Confusion Matrix\")\n",
        "\n",
        "sns.heatmap(confusion_matrix(y_test, y_pred_lr), annot=True, fmt='d', cmap=\"Greens\", ax=axes[1])\n",
        "axes[1].set_title(\"Logistic Regression Confusion Matrix\")\n",
        "\n",
        "plt.show()\n"
      ],
      "metadata": {
        "colab": {
          "base_uri": "https://localhost:8080/",
          "height": 304
        },
        "id": "LJipyjDe0tKY",
        "outputId": "9931ce6c-3e2b-4422-bd59-acbb6384f91b"
      },
      "execution_count": 19,
      "outputs": [
        {
          "output_type": "display_data",
          "data": {
            "text/plain": [
              "<Figure size 1200x500 with 4 Axes>"
            ],
            "image/png": "[encoded data removed]"
          },
          "metadata": {}
        }
      ]
    }
  ]
}